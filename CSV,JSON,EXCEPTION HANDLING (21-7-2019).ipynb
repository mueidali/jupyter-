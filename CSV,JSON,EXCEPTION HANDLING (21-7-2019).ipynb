{
 "cells": [
  {
   "cell_type": "code",
   "execution_count": 11,
   "metadata": {},
   "outputs": [],
   "source": [
    "import csv          # comma separated values"
   ]
  },
  {
   "cell_type": "code",
   "execution_count": 12,
   "metadata": {},
   "outputs": [
    {
     "name": "stdout",
     "output_type": "stream",
     "text": [
      "['Year', ' Event ', ' winner']\n",
      "['1995', ' Best_kept Lawn ', ' None']\n",
      "['1999', ' gobstones', ' Welch National']\n"
     ]
    }
   ],
   "source": [
    "with open(\"myfile.csv\",\"r\") as f:\n",
    "    content = csv.reader(f)\n",
    "    for i in content:\n",
    "        print(i)"
   ]
  },
  {
   "cell_type": "code",
   "execution_count": 14,
   "metadata": {},
   "outputs": [],
   "source": [
    "with open(\"hussain.csv\",\"w\", newline = \"\") as f:\n",
    "    data_handler = csv.writer(f,delimiter=\",\")\n",
    "    data_handler.writerow([\"Year\", \"Event\",\"Winner\"])\n",
    "    data_handler.writerow([\"1995\", \"Best_kept Lawn\" , \"None\"])\n",
    "    data_handler.writerow([\"1999\", \"gobstones\", \"Welch National\"])\n",
    "    "
   ]
  },
  {
   "cell_type": "code",
   "execution_count": 15,
   "metadata": {},
   "outputs": [],
   "source": [
    "with open(\"hussain.csv\",\"a\", newline = \"\") as f:\n",
    "    data_handler = csv.writer(f,delimiter=\",\")\n",
    "    data_handler.writerow([\"1995\", \"nation\" , \"No\"])\n",
    "    data_handler.writerow([\"1999\", \"gobstones\", \"Well\"])"
   ]
  },
  {
   "cell_type": "markdown",
   "metadata": {},
   "source": [
    "# JSON"
   ]
  },
  {
   "cell_type": "code",
   "execution_count": 17,
   "metadata": {},
   "outputs": [],
   "source": [
    "#json = java script "
   ]
  },
  {
   "cell_type": "code",
   "execution_count": 18,
   "metadata": {},
   "outputs": [],
   "source": [
    "import json\n",
    "alphabet_list = ['a','b','c','d']\n",
    "with open(\"hussain.json\",\"w\") as f:\n",
    "    json.dump(alphabet_list,f)            # to write in json .dump is used"
   ]
  },
  {
   "cell_type": "code",
   "execution_count": 19,
   "metadata": {},
   "outputs": [],
   "source": [
    "with open(\"hussain.json\",\"r\") as f:\n",
    "    alphabets = json.load(f)               # to read in json .load is used"
   ]
  },
  {
   "cell_type": "code",
   "execution_count": 20,
   "metadata": {},
   "outputs": [
    {
     "data": {
      "text/plain": [
       "['a', 'b', 'c', 'd']"
      ]
     },
     "execution_count": 20,
     "metadata": {},
     "output_type": "execute_result"
    }
   ],
   "source": [
    "alphabets"
   ]
  },
  {
   "cell_type": "markdown",
   "metadata": {},
   "source": [
    "# Exception handling "
   ]
  },
  {
   "cell_type": "code",
   "execution_count": 8,
   "metadata": {},
   "outputs": [
    {
     "name": "stdout",
     "output_type": "stream",
     "text": [
      "Enter a number25\n",
      "Enter a number0\n",
      "Exception is caught ZeroDivisionError\n"
     ]
    }
   ],
   "source": [
    "\n",
    "\n",
    "\n",
    "a = int(input(\"Enter a number\"))\n",
    "b = int(input(\"Enter a number\"))\n",
    "mylist= [1,2,3,4]\n",
    "try:\n",
    "    c = a/b\n",
    "    print(c)\n",
    "    print(mylist[2])\n",
    "except ZeroDivisionError:\n",
    "    print(\"Exception is caught ZeroDivisionError\")\n",
    "except IndexError:\n",
    "    print(\"ap jo index mang rahe hain wo mojud nhi hai\")"
   ]
  },
  {
   "cell_type": "code",
   "execution_count": 9,
   "metadata": {},
   "outputs": [
    {
     "name": "stdout",
     "output_type": "stream",
     "text": [
      "Enter a number2\n",
      "Enter a number0\n",
      "Handled ZeroDivisionError\n"
     ]
    }
   ],
   "source": [
    "\n",
    "a = int(input(\"Enter a number\"))\n",
    "b = int(input(\"Enter a number\"))\n",
    "try:\n",
    "    c = a/b                      # if exception is present\n",
    "except ZeroDivisionError:\n",
    "    print(\"Handled ZeroDivisionError\")\n",
    "else:\n",
    "    print(c)                              # except will be runned"
   ]
  },
  {
   "cell_type": "code",
   "execution_count": 10,
   "metadata": {},
   "outputs": [
    {
     "name": "stdout",
     "output_type": "stream",
     "text": [
      "Enter a number2\n",
      "Enter a number6\n",
      "0.3333333333333333\n"
     ]
    }
   ],
   "source": [
    "\n",
    "a = int(input(\"Enter a number\"))\n",
    "b = int(input(\"Enter a number\"))\n",
    "try:\n",
    "    c = a/b                            # if exception is not present\n",
    "except ZeroDivisionError:\n",
    "    print(\"Handled ZeroDivisionError\")\n",
    "else:\n",
    "    print(c)                                 # else will be ruuned"
   ]
  },
  {
   "cell_type": "code",
   "execution_count": 16,
   "metadata": {},
   "outputs": [
    {
     "name": "stdout",
     "output_type": "stream",
     "text": [
      "Enter a number52\n",
      "Enter a number2\n",
      "26.0\n",
      "exception is caught \n"
     ]
    }
   ],
   "source": [
    "\n",
    "\n",
    "mylist= [1,2,3,4]\n",
    "try:\n",
    "    a = int(input(\"Enter a number\"))\n",
    "    b = int(input(\"Enter a number\"))\n",
    "    c = a/b\n",
    "    print(c)\n",
    "    print(mylist[4])\n",
    "    \n",
    "except:\n",
    "    print(\"exception is caught \")\n"
   ]
  },
  {
   "cell_type": "code",
   "execution_count": null,
   "metadata": {},
   "outputs": [],
   "source": []
  }
 ],
 "metadata": {
  "kernelspec": {
   "display_name": "Python 3",
   "language": "python",
   "name": "python3"
  },
  "language_info": {
   "codemirror_mode": {
    "name": "ipython",
    "version": 3
   },
   "file_extension": ".py",
   "mimetype": "text/x-python",
   "name": "python",
   "nbconvert_exporter": "python",
   "pygments_lexer": "ipython3",
   "version": "3.7.3"
  }
 },
 "nbformat": 4,
 "nbformat_minor": 2
}
