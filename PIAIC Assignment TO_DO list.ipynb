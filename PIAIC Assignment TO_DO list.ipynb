{
 "cells": [
  {
   "cell_type": "markdown",
   "metadata": {},
   "source": [
    "# ASSIGNMENTS:"
   ]
  },
  {
   "cell_type": "code",
   "execution_count": 2,
   "metadata": {},
   "outputs": [
    {
     "name": "stdout",
     "output_type": "stream",
     "text": [
      "['Awake', 'Assignment', 'Prayer', 'Recite quran', 'Call', 'Aftar', 'Taraveeh']\n",
      "\n",
      "Enter your task: Awake\n",
      "Routine_list : ['Assignment', 'Prayer', 'Recite quran', 'Call', 'Aftar', 'Taraveeh']\n",
      "Completed_task : ['Awake']\n",
      "Enter your task: Assignment\n",
      "Routine_list : ['Prayer', 'Recite quran', 'Call', 'Aftar', 'Taraveeh']\n",
      "Completed_task : ['Awake', 'Assignment']\n",
      "Enter your task: Prayer\n",
      "Routine_list : ['Recite quran', 'Call', 'Aftar', 'Taraveeh']\n",
      "Completed_task : ['Awake', 'Assignment', 'Prayer']\n",
      "Enter your task: Recite quran\n",
      "Routine_list : ['Call', 'Aftar', 'Taraveeh']\n",
      "Completed_task : ['Awake', 'Assignment', 'Prayer', 'Recite quran']\n",
      "Enter your task: Call\n",
      "Routine_list : ['Aftar', 'Taraveeh']\n",
      "Completed_task : ['Awake', 'Assignment', 'Prayer', 'Recite quran', 'Call']\n",
      "Enter your task: Aftar\n",
      "Routine_list : ['Taraveeh']\n",
      "Completed_task : ['Awake', 'Assignment', 'Prayer', 'Recite quran', 'Call', 'Aftar']\n",
      "Enter your task: Taraveeh\n",
      "Routine_list : []\n",
      "Completed_task : ['Awake', 'Assignment', 'Prayer', 'Recite quran', 'Call', 'Aftar', 'Taraveeh']\n",
      "You have done your task\n"
     ]
    }
   ],
   "source": [
    "task =  [ \"Awake\",\"Assignment\",\"Prayer\",\"Recite quran\",\"Call\",\"Aftar\",\"Taraveeh\" ]\n",
    "to_do_list = []\n",
    "print(\"{}\\n\".format(task))\n",
    "if len(task) == 0:\n",
    "    print(\"congratulation!!! You have done your task\\nGOOD JOB\")\n",
    "else:\n",
    "    for x in range(len(task)):\n",
    "        if len(task) > 0:\n",
    "            task_comp= input(\"Enter your task: \")\n",
    "                \n",
    "        if task_comp in task:\n",
    "            task_comp = task.pop(task.index(task_comp))\n",
    "            to_do_list.append(task_comp)\n",
    "            \n",
    "            print(\"Routine_list : {}\".format(task))\n",
    "            print(\"Completed_task : {}\".format(to_do_list)) \n",
    "    else:\n",
    "        if len(task) == 0:\n",
    "            print(\"You have done your task\")\n",
    "        else:\n",
    "            print(\"Sorry! This task is not in the list\")\n",
    "            \n",
    "    \n",
    "    "
   ]
  },
  {
   "cell_type": "code",
   "execution_count": 79,
   "metadata": {},
   "outputs": [
    {
     "name": "stdout",
     "output_type": "stream",
     "text": [
      "Enter your task: Taraveeh\n",
      "It's in the list\n"
     ]
    }
   ],
   "source": [
    "task =  ['Assignment' ,'Awake', 'Prayer' , 'Recite quran' , 'Call', 'Taraveeh' ]\n",
    "to_do_list = []\n",
    "user = input(\"Enter your task: \")\n",
    "for x in task:\n",
    "    if user >= x:\n",
    "        print(\"It's in the list\")\n",
    "    else:\n",
    "        print(\"It's not in the list\")\n",
    "    break"
   ]
  },
  {
   "cell_type": "code",
   "execution_count": 80,
   "metadata": {},
   "outputs": [
    {
     "data": {
      "text/plain": [
       "'Assignment'"
      ]
     },
     "execution_count": 80,
     "metadata": {},
     "output_type": "execute_result"
    }
   ],
   "source": [
    "to_do = task.pop(0)\n",
    "to_do"
   ]
  },
  {
   "cell_type": "code",
   "execution_count": 81,
   "metadata": {},
   "outputs": [
    {
     "data": {
      "text/plain": [
       "['Assignment']"
      ]
     },
     "execution_count": 81,
     "metadata": {},
     "output_type": "execute_result"
    }
   ],
   "source": [
    "to_do_list.append(to_do)\n",
    "to_do_list"
   ]
  },
  {
   "cell_type": "code",
   "execution_count": 82,
   "metadata": {},
   "outputs": [
    {
     "data": {
      "text/plain": [
       "['Assignment', 'game']"
      ]
     },
     "execution_count": 82,
     "metadata": {},
     "output_type": "execute_result"
    }
   ],
   "source": [
    "to_do_list.append(\"game\")\n",
    "to_do_list"
   ]
  },
  {
   "cell_type": "code",
   "execution_count": 1,
   "metadata": {},
   "outputs": [
    {
     "name": "stdout",
     "output_type": "stream",
     "text": [
      "to_do_list=['sehri', 'fajar', 'zuhr', 'asar', 'aftar', 'magrib', 'isha', 'taraveeh']\n",
      "Enter your task: sehri\n",
      "Task_done=sehri\n",
      "to_do_list=['fajar', 'zuhr', 'asar', 'aftar', 'magrib', 'isha', 'taraveeh']\n",
      "Enter your task: zuhr\n",
      "Task_done=zuhr\n",
      "to_do_list=['fajar', 'asar', 'aftar', 'magrib', 'isha', 'taraveeh']\n",
      "Enter your task: asar\n",
      "Task_done=asar\n",
      "to_do_list=['fajar', 'aftar', 'magrib', 'isha', 'taraveeh']\n",
      "Enter your task: magrib\n",
      "Task_done=magrib\n",
      "to_do_list=['fajar', 'aftar', 'isha', 'taraveeh']\n",
      "Enter your task: taraveeh\n",
      "Task_done=taraveeh\n",
      "to_do_list=['fajar', 'aftar', 'isha']\n",
      "Enter your task: isha\n",
      "Task_done=isha\n",
      "to_do_list=['fajar', 'aftar']\n",
      "Enter your task: afar\n",
      "NOT in to_do_list\n",
      "Enter your task: aftar\n",
      "Task_done=aftar\n",
      "to_do_list=['fajar']\n",
      "Enter your task: fajar\n",
      "Task_done=fajar\n",
      "to_do_list=[]\n",
      "Your have done your all tasks!!!\n"
     ]
    }
   ],
   "source": [
    "to_do_list = ['sehri','fajar','zuhr','asar','aftar','magrib','isha','taraveeh']\n",
    "print('to_do_list'+'='+ format(to_do_list))\n",
    "task_done = []\n",
    "\n",
    "while to_do_list != []:\n",
    "    a = (input(\"Enter your task: \").lower())\n",
    "    if a in to_do_list:\n",
    "        task_done = [ a , to_do_list.remove(a)]\n",
    "        print('Task_done' + '=' + format(a))\n",
    "        print('to_do_list' + '=' +format(to_do_list))\n",
    "    else:\n",
    "        print('NOT in to_do_list')\n",
    "if to_do_list == []:\n",
    "\n",
    "    print('Your have done your all tasks!!!')"
   ]
  },
  {
   "cell_type": "code",
   "execution_count": null,
   "metadata": {},
   "outputs": [],
   "source": []
  }
 ],
 "metadata": {
  "kernelspec": {
   "display_name": "Python 3",
   "language": "python",
   "name": "python3"
  },
  "language_info": {
   "codemirror_mode": {
    "name": "ipython",
    "version": 3
   },
   "file_extension": ".py",
   "mimetype": "text/x-python",
   "name": "python",
   "nbconvert_exporter": "python",
   "pygments_lexer": "ipython3",
   "version": "3.7.3"
  }
 },
 "nbformat": 4,
 "nbformat_minor": 2
}
