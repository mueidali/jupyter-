{
 "cells": [
  {
   "cell_type": "code",
   "execution_count": 1,
   "metadata": {},
   "outputs": [
    {
     "data": {
      "text/plain": [
       "11"
      ]
     },
     "execution_count": 1,
     "metadata": {},
     "output_type": "execute_result"
    }
   ],
   "source": [
    "a = 10\n",
    "\n",
    "\n",
    "a = a +1\n",
    "a"
   ]
  },
  {
   "cell_type": "code",
   "execution_count": 2,
   "metadata": {},
   "outputs": [
    {
     "data": {
      "text/plain": [
       "12"
      ]
     },
     "execution_count": 2,
     "metadata": {},
     "output_type": "execute_result"
    }
   ],
   "source": [
    "a += 1\n",
    "a"
   ]
  },
  {
   "cell_type": "code",
   "execution_count": 3,
   "metadata": {},
   "outputs": [
    {
     "data": {
      "text/plain": [
       "16"
      ]
     },
     "execution_count": 3,
     "metadata": {},
     "output_type": "execute_result"
    }
   ],
   "source": [
    "a += 4\n",
    "a"
   ]
  },
  {
   "cell_type": "code",
   "execution_count": 4,
   "metadata": {},
   "outputs": [
    {
     "data": {
      "text/plain": [
       "14"
      ]
     },
     "execution_count": 4,
     "metadata": {},
     "output_type": "execute_result"
    }
   ],
   "source": [
    "a -= 2\n",
    "a"
   ]
  },
  {
   "cell_type": "code",
   "execution_count": 5,
   "metadata": {},
   "outputs": [
    {
     "data": {
      "text/plain": [
       "42"
      ]
     },
     "execution_count": 5,
     "metadata": {},
     "output_type": "execute_result"
    }
   ],
   "source": [
    "a *= 3\n",
    "a"
   ]
  },
  {
   "cell_type": "code",
   "execution_count": 6,
   "metadata": {},
   "outputs": [
    {
     "data": {
      "text/plain": [
       "21.0"
      ]
     },
     "execution_count": 6,
     "metadata": {},
     "output_type": "execute_result"
    }
   ],
   "source": [
    "a /= 2\n",
    "a"
   ]
  },
  {
   "cell_type": "code",
   "execution_count": 7,
   "metadata": {},
   "outputs": [
    {
     "data": {
      "text/plain": [
       "7.0"
      ]
     },
     "execution_count": 7,
     "metadata": {},
     "output_type": "execute_result"
    }
   ],
   "source": [
    "a //= 3\n",
    "a"
   ]
  },
  {
   "cell_type": "code",
   "execution_count": 9,
   "metadata": {},
   "outputs": [
    {
     "data": {
      "text/plain": [
       "10.0"
      ]
     },
     "execution_count": 9,
     "metadata": {},
     "output_type": "execute_result"
    }
   ],
   "source": [
    "b = 10.0\n",
    "b // 2\n",
    "b"
   ]
  },
  {
   "cell_type": "code",
   "execution_count": 10,
   "metadata": {},
   "outputs": [
    {
     "data": {
      "text/plain": [
       "1.0"
      ]
     },
     "execution_count": 10,
     "metadata": {},
     "output_type": "execute_result"
    }
   ],
   "source": [
    "a %= 3\n",
    "a"
   ]
  },
  {
   "cell_type": "code",
   "execution_count": 11,
   "metadata": {},
   "outputs": [
    {
     "data": {
      "text/plain": [
       "10"
      ]
     },
     "execution_count": 11,
     "metadata": {},
     "output_type": "execute_result"
    }
   ],
   "source": [
    "true = 10\n",
    "true"
   ]
  },
  {
   "cell_type": "code",
   "execution_count": 21,
   "metadata": {},
   "outputs": [],
   "source": [
    "name = 'Mohsin'\n",
    "if name == 'mohsin':\n",
    "    print(\"My name is Mohsin\")         # if condition is worked on basis of true or false\n",
    "    "
   ]
  },
  {
   "cell_type": "code",
   "execution_count": 29,
   "metadata": {},
   "outputs": [
    {
     "name": "stdout",
     "output_type": "stream",
     "text": [
      "My name is Mohsin.\n",
      "5\n"
     ]
    }
   ],
   "source": [
    "name = 'Mohsin'\n",
    "increment = 0\n",
    "if name == 'Mohsin':\n",
    "    print(\"My name is \" + name +\".\")\n",
    "    increment += 5\n",
    "    print(increment)"
   ]
  },
  {
   "cell_type": "code",
   "execution_count": 31,
   "metadata": {},
   "outputs": [
    {
     "name": "stdout",
     "output_type": "stream",
     "text": [
      "kuch bhi\n"
     ]
    }
   ],
   "source": [
    "name = 'Mohsin'\n",
    "increment = 0\n",
    "if name == 'mohsin':\n",
    "    print(\"My name is \" + name +\".\")\n",
    "    increment += 5\n",
    "    print(increment)\n",
    "else:\n",
    "    print(\"kuch bhi\")"
   ]
  },
  {
   "cell_type": "code",
   "execution_count": 32,
   "metadata": {},
   "outputs": [
    {
     "name": "stdout",
     "output_type": "stream",
     "text": [
      "10\n"
     ]
    }
   ],
   "source": [
    "a = 10\n",
    "if a ==  10:\n",
    "    print(a)"
   ]
  },
  {
   "cell_type": "markdown",
   "metadata": {},
   "source": [
    "# Comparison Operators\n"
   ]
  },
  {
   "cell_type": "code",
   "execution_count": 33,
   "metadata": {},
   "outputs": [
    {
     "name": "stdout",
     "output_type": "stream",
     "text": [
      "Number 1 and Number 2 are not same...\n"
     ]
    }
   ],
   "source": [
    "num1 = 69\n",
    "num2 = 21\n",
    "\n",
    "if num1 != num2:      # != is the sign of not equal to.....\n",
    "    print('Number 1 and Number 2 are not same...')\n",
    "else:\n",
    "    print(\"both the numbers are same\")\n"
   ]
  },
  {
   "cell_type": "code",
   "execution_count": 34,
   "metadata": {},
   "outputs": [
    {
     "name": "stdout",
     "output_type": "stream",
     "text": [
      "both the numbers are same\n"
     ]
    }
   ],
   "source": [
    "num1 = 69\n",
    "num2 = 69       \n",
    "\n",
    "if num1 != num2:\n",
    "    print('Number 1 and Number 2 are not same...')\n",
    "else:\n",
    "    print(\"both the numbers are same\")"
   ]
  },
  {
   "cell_type": "code",
   "execution_count": 36,
   "metadata": {},
   "outputs": [
    {
     "data": {
      "text/plain": [
       "True"
      ]
     },
     "execution_count": 36,
     "metadata": {},
     "output_type": "execute_result"
    }
   ],
   "source": [
    "\n",
    "5 != 9"
   ]
  },
  {
   "cell_type": "code",
   "execution_count": 38,
   "metadata": {},
   "outputs": [
    {
     "data": {
      "text/plain": [
       "False"
      ]
     },
     "execution_count": 38,
     "metadata": {},
     "output_type": "execute_result"
    }
   ],
   "source": [
    "6 == 1    # == is the sign of equal to..."
   ]
  },
  {
   "cell_type": "code",
   "execution_count": 39,
   "metadata": {},
   "outputs": [
    {
     "data": {
      "text/plain": [
       "False"
      ]
     },
     "execution_count": 39,
     "metadata": {},
     "output_type": "execute_result"
    }
   ],
   "source": [
    "a = 5\n",
    "b = 8\n",
    "a > b"
   ]
  },
  {
   "cell_type": "code",
   "execution_count": 40,
   "metadata": {},
   "outputs": [
    {
     "data": {
      "text/plain": [
       "True"
      ]
     },
     "execution_count": 40,
     "metadata": {},
     "output_type": "execute_result"
    }
   ],
   "source": [
    "a < b"
   ]
  },
  {
   "cell_type": "code",
   "execution_count": 41,
   "metadata": {},
   "outputs": [
    {
     "data": {
      "text/plain": [
       "True"
      ]
     },
     "execution_count": 41,
     "metadata": {},
     "output_type": "execute_result"
    }
   ],
   "source": [
    "a <= b"
   ]
  },
  {
   "cell_type": "code",
   "execution_count": 42,
   "metadata": {},
   "outputs": [
    {
     "data": {
      "text/plain": [
       "False"
      ]
     },
     "execution_count": 42,
     "metadata": {},
     "output_type": "execute_result"
    }
   ],
   "source": [
    "a >= b"
   ]
  },
  {
   "cell_type": "code",
   "execution_count": 47,
   "metadata": {},
   "outputs": [
    {
     "data": {
      "text/plain": [
       "False"
      ]
     },
     "execution_count": 47,
     "metadata": {},
     "output_type": "execute_result"
    }
   ],
   "source": [
    "a == b"
   ]
  },
  {
   "cell_type": "code",
   "execution_count": 48,
   "metadata": {},
   "outputs": [
    {
     "data": {
      "text/plain": [
       "True"
      ]
     },
     "execution_count": 48,
     "metadata": {},
     "output_type": "execute_result"
    }
   ],
   "source": [
    "a != b"
   ]
  },
  {
   "cell_type": "code",
   "execution_count": 4,
   "metadata": {},
   "outputs": [
    {
     "name": "stdout",
     "output_type": "stream",
     "text": [
      "Enter your age: 120\n",
      "cnic banwany jao...\n"
     ]
    }
   ],
   "source": [
    "age =int(input(\"Enter your age: \"))\n",
    "if age >= 18:\n",
    "    print(\"cnic banwany jao...\")\n",
    "else:\n",
    "    print(\"ghar py aram kro...\")"
   ]
  },
  {
   "cell_type": "code",
   "execution_count": 9,
   "metadata": {},
   "outputs": [
    {
     "name": "stdout",
     "output_type": "stream",
     "text": [
      "Enter your age: 12\n",
      "ghar py aram kro...\n"
     ]
    }
   ],
   "source": [
    "age =input(\"Enter your age: \")\n",
    "if age >= \"18\":\n",
    "    print(\"cnic banwany jao...\")\n",
    "else:\n",
    "    print(\"ghar py aram kro...\")"
   ]
  },
  {
   "cell_type": "code",
   "execution_count": 4,
   "metadata": {},
   "outputs": [
    {
     "name": "stdout",
     "output_type": "stream",
     "text": [
      "Enter your total marks: 81\n",
      "**car**\n"
     ]
    }
   ],
   "source": [
    "marks = int(input(\"Enter your total marks: \"))\n",
    "if marks >= 80:\n",
    "    print(\"**car**\")\n",
    "elif marks >= 70:                   # elif only be run if the first condition is false..\n",
    "    print(\"**iphone3g**\")\n",
    "elif marks >= 60:\n",
    "    print(\"**danda**\")\n",
    "else:\n",
    "    print(\"**jootay**\")"
   ]
  },
  {
   "cell_type": "code",
   "execution_count": 12,
   "metadata": {},
   "outputs": [
    {
     "name": "stdout",
     "output_type": "stream",
     "text": [
      "Enter your age: 43\n",
      "in process....please wait!!\n",
      "Do you have ticket[Y/N]: Y\n",
      "U can go now\n"
     ]
    }
   ],
   "source": [
    "age = int(input(\"Enter your age: \"))\n",
    "if age >= 18:\n",
    "    print(\"in process....please wait!!\")\n",
    "    ticket = input(\"Do you have ticket[Y/N]: \").lower()  # upper() is used to capitalized the letters while \n",
    "                                                        # lower() is used to decapitalized the letters...\n",
    "    if ticket == 'y':\n",
    "        print(\"U can go now\")\n",
    "    else:\n",
    "        print(\"Buy your ticket.\")\n",
    "\n",
    "else:\n",
    "        print(\"Your are a child...\")\n"
   ]
  },
  {
   "cell_type": "code",
   "execution_count": 8,
   "metadata": {},
   "outputs": [
    {
     "data": {
      "text/plain": [
       "'PAKISTAN'"
      ]
     },
     "execution_count": 8,
     "metadata": {},
     "output_type": "execute_result"
    }
   ],
   "source": [
    "x = 'Pakistan'\n",
    "x.upper()"
   ]
  },
  {
   "cell_type": "code",
   "execution_count": 6,
   "metadata": {},
   "outputs": [
    {
     "data": {
      "text/plain": [
       "'pakistan'"
      ]
     },
     "execution_count": 6,
     "metadata": {},
     "output_type": "execute_result"
    }
   ],
   "source": [
    "x = 'PAKISTAN'\n",
    "x.lower()"
   ]
  },
  {
   "cell_type": "code",
   "execution_count": 7,
   "metadata": {},
   "outputs": [
    {
     "data": {
      "text/plain": [
       "'Pakistan'"
      ]
     },
     "execution_count": 7,
     "metadata": {},
     "output_type": "execute_result"
    }
   ],
   "source": [
    "x.title()"
   ]
  },
  {
   "cell_type": "markdown",
   "metadata": {},
   "source": [
    "#  ASSIGNMENTS:"
   ]
  },
  {
   "cell_type": "code",
   "execution_count": 10,
   "metadata": {},
   "outputs": [
    {
     "name": "stdout",
     "output_type": "stream",
     "text": [
      "Do you have CNIC [Y/N]: Y\n",
      "Your CNIC is valid! \n",
      "Is your name on a voting list[Y/N]: N\n",
      "Sorry... you are not able to cast a vote\n"
     ]
    }
   ],
   "source": [
    "a = input(\"Do you have CNIC [Y/N]: \")\n",
    "\n",
    "if a == 'Y':\n",
    "    print(\"Your CNIC is valid! \")\n",
    "    b = input(\"Is your name on a voting list[Y/N]: \")\n",
    "    if b == 'Y':\n",
    "        print(\"You are able to cast your vote  \")\n",
    "    else:\n",
    "        print(\"Sorry... you are not able to cast a vote\")\n",
    "    "
   ]
  },
  {
   "cell_type": "code",
   "execution_count": 59,
   "metadata": {},
   "outputs": [
    {
     "name": "stdout",
     "output_type": "stream",
     "text": [
      "Enter obtained marks in English: 88\n",
      "Enter obtained marks in Mathematics: 87\n",
      "Enter obtained marks in Science: 79\n",
      "total secured marks is:  254 Your per is:  84.66666666666667 %. \n",
      "Your grade is A+ \n"
     ]
    }
   ],
   "source": [
    "sub1 = int(input(\"Enter obtained marks in English: \"))\n",
    "sub2 = int(input(\"Enter obtained marks in Mathematics: \"))\n",
    "sub3 = int(input(\"Enter obtained marks in Science: \"))\n",
    "if sub1 <= 100 and sub2 <= 100 and sub3 <= 100:\n",
    "    total_marks = 300\n",
    "total_sub = sub1 + sub2 + sub3\n",
    "percentage = (total_sub)/total_marks*100\n",
    "print(\"total secured marks is: \",total_sub ,\"Your per is: \",percentage,\"%. \")\n",
    "\n",
    "if percentage >= 80:\n",
    "           print(\"Your grade is A+ \")\n",
    "\n",
    "elif percentage >= 70:\n",
    "        print(\"Your grade is A \")\n",
    "elif percentage >= 60:\n",
    "        print(\"Your grade is B \")\n",
    "else:\n",
    "    print(\"You are failed! \")\n"
   ]
  },
  {
   "cell_type": "code",
   "execution_count": 11,
   "metadata": {},
   "outputs": [
    {
     "name": "stdout",
     "output_type": "stream",
     "text": [
      "maths_marks: 125\n",
      "**Enter your valid marks:** \n",
      "english_marks: 123\n",
      "**Enter your valid marks:** \n",
      "science_marks: 125\n",
      "**Enter your valid marks:** \n",
      "A1 grade....  Excellent!!\n"
     ]
    }
   ],
   "source": [
    "maths = int(input(\"maths_marks: \"))\n",
    "if maths<0 or maths>100:\n",
    "    print(\"**Enter your valid marks:** \")\n",
    "english = int(input(\"english_marks: \"))\n",
    "if english<0 or english>100:\n",
    "    print(\"**Enter your valid marks:** \")\n",
    "science = int(input(\"science_marks: \"))\n",
    "if science<0 or science>100:\n",
    "    print(\"**Enter your valid marks:** \")\n",
    "total_marks = 300\n",
    "obtained_marks= maths + english + science\n",
    "percentage = obtained_marks/total_marks*100\n",
    "if percentage>=80:\n",
    "    print(\"A1 grade....  Excellent!!\")\n",
    "elif percentage>=70:\n",
    "        print(\"A grade....Good !!\")\n",
    "elif percentage>=60:\n",
    "            print(\"B garde.... Fair!!\")\n",
    "else:\n",
    "    print(\"failed!!\")\n",
    "    \n",
    "    "
   ]
  },
  {
   "cell_type": "code",
   "execution_count": 5,
   "metadata": {},
   "outputs": [
    {
     "name": "stdout",
     "output_type": "stream",
     "text": [
      "Your name Please: Mueid Ali Khan\n",
      "Your Student No: 26085\n",
      "Enter math's obtain marks: 97\n",
      "Enter physics obtain marks: 95\n",
      "Enter biology obtain marks: 87\n",
      "Enter islamiat obtain marks: 99\n",
      "Enter computer obtain marks: 75\n",
      "Enter urdu obtain marks: 67\n",
      "---------------------------------------------------------------------------------------------\n",
      "| Name        || Student No || math's || physics || biology || islamiat || computer || urdu |\n",
      "---------------------------------------------------------------------------------------------\n",
      "| Mueid Ali Khan  || 26085   ||  97   ||  95   ||  87   ||  99   ||  75   ||  67  |\n",
      "---------------------------------------------------------------------------------------------\n",
      "|             outof            || 100     || 100    || 100    || 100    || 100    || 100    |\n",
      "---------------------------------------------------------------------------------------------\n",
      "|            Sub Percentage    ||  16 % ||  15 % ||  14 % ||  16 % ||  12 % ||  11 %\n",
      "---------------------------------------------------------------------------------------------\n",
      "|            Percentage        ||   86.66666666666667 %                                             |\n",
      "---------------------------------------------------------------------------------------------\n",
      "|        Grade              ||  A                                                       |\n",
      "-------------------------------------------------------------------------------------\n",
      "|         Result status           ||  Pass                                              |\n"
     ]
    }
   ],
   "source": [
    "name=input(\"Your name Please: \")\n",
    "student_no=input(\"Your Student No: \")\n",
    "# obtaining marks\n",
    "obt_mat=int(input(\"Enter math's obtain marks: \"))\n",
    "obt_phy=int(input(\"Enter physics obtain marks: \"))\n",
    "obt_bio=int(input(\"Enter biology obtain marks: \"))\n",
    "obt_isl=int(input(\"Enter islamiat obtain marks: \"))\n",
    "obt_com=int(input(\"Enter computer obtain marks: \"))\n",
    "obt_urd=int(input(\"Enter urdu obtain marks: \"))\n",
    "if obt_mat <= 100 and obt_phy <= 100 and obt_bio <= 100 and obt_isl <= 100 and obt_com <= 100 and obt_urd <= 100:\n",
    "    outof=600\n",
    "    total= obt_mat + obt_phy + obt_bio + obt_isl + obt_com + obt_urd\n",
    "    percent=total/600*100\n",
    "    print(\"---------------------------------------------------------------------------------------------\")\n",
    "    print(\"| Name        || Student No || math's || physics || biology || islamiat || computer || urdu |\")\n",
    "    print(\"---------------------------------------------------------------------------------------------\")\n",
    "    print(\"| \"+name+\"  || \"+student_no+\"   || \",obt_mat,\"  || \",obt_phy,\"  || \",obt_bio,\"  || \",obt_isl,\"  || \",obt_com,\"  || \",obt_urd,\" |\")\n",
    "    print(\"---------------------------------------------------------------------------------------------\")\n",
    "    print(\"|             outof            || 100     || 100    || 100    || 100    || 100    || 100    |\")\n",
    "    print(\"---------------------------------------------------------------------------------------------\")\n",
    "    print(\"|            Sub Percentage    || \",int(obt_mat/outof*100),\"% || \",int(obt_phy/outof*100),\"% || \",int(obt_bio/outof*100),\"% || \",int(obt_isl/outof*100),\"% || \",int(obt_com/outof*100),\"% || \",int(obt_urd/outof*100),\"%\")\n",
    "    print(\"---------------------------------------------------------------------------------------------\")\n",
    "    print(\"|            Percentage        ||  \",percent,\"%                                             |\")\n",
    "    print(\"---------------------------------------------------------------------------------------------\")\n",
    "    if percent >= 80:\n",
    "        print(\"|        Grade              ||  A                                                       |\")\n",
    "    elif percent >= 60:\n",
    "         print(\"|        Grade             ||  B                                                       |\")\n",
    "    elif percent >= 50:\n",
    "         print(\"|        Grade             ||  C                                                       |\")\n",
    "    elif percent >= 40:\n",
    "         print(\"|        Grade             ||  D                                                       |\")\n",
    "    print(\"-------------------------------------------------------------------------------------\")\n",
    "    if obt_mat >= 40 and obt_phy >= 40 and obt_bio >= 40 and obt_isl >= 40 and obt_urd >= 40:\n",
    "        print(\"|         Result status           ||  Pass                                              |\")\n",
    "    else:\n",
    "        print(\"|         Result status           ||  Fail                                                  |\")\n",
    "else:\n",
    "    print(\"Error!. Obtain marks should not exceed to 100\")\n",
    "        \n"
   ]
  },
  {
   "cell_type": "code",
   "execution_count": null,
   "metadata": {},
   "outputs": [],
   "source": []
  },
  {
   "cell_type": "code",
   "execution_count": null,
   "metadata": {},
   "outputs": [],
   "source": []
  },
  {
   "cell_type": "code",
   "execution_count": null,
   "metadata": {},
   "outputs": [],
   "source": []
  },
  {
   "cell_type": "code",
   "execution_count": null,
   "metadata": {},
   "outputs": [],
   "source": []
  },
  {
   "cell_type": "code",
   "execution_count": null,
   "metadata": {},
   "outputs": [],
   "source": []
  },
  {
   "cell_type": "code",
   "execution_count": null,
   "metadata": {},
   "outputs": [],
   "source": []
  },
  {
   "cell_type": "code",
   "execution_count": null,
   "metadata": {},
   "outputs": [],
   "source": []
  },
  {
   "cell_type": "code",
   "execution_count": null,
   "metadata": {},
   "outputs": [],
   "source": []
  },
  {
   "cell_type": "code",
   "execution_count": null,
   "metadata": {},
   "outputs": [],
   "source": []
  }
 ],
 "metadata": {
  "kernelspec": {
   "display_name": "Python 3",
   "language": "python",
   "name": "python3"
  },
  "language_info": {
   "codemirror_mode": {
    "name": "ipython",
    "version": 3
   },
   "file_extension": ".py",
   "mimetype": "text/x-python",
   "name": "python",
   "nbconvert_exporter": "python",
   "pygments_lexer": "ipython3",
   "version": "3.7.3"
  }
 },
 "nbformat": 4,
 "nbformat_minor": 2
}
