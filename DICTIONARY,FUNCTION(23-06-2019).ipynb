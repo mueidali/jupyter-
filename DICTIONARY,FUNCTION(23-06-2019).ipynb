{
 "cells": [
  {
   "cell_type": "code",
   "execution_count": 1,
   "metadata": {},
   "outputs": [],
   "source": [
    "empty_dict = {}\n",
    "empty_dict['f_name']="
   ]
  },
  {
   "cell_type": "markdown",
   "metadata": {},
   "source": [
    "\n",
    "# dictionary"
   ]
  },
  {
   "cell_type": "code",
   "execution_count": 1,
   "metadata": {},
   "outputs": [],
   "source": [
    "#Example in dictionary:\n",
    "# 'name:mueid'\n",
    "# name = keys\n",
    "# mueid = values"
   ]
  },
  {
   "cell_type": "code",
   "execution_count": 5,
   "metadata": {},
   "outputs": [
    {
     "name": "stdout",
     "output_type": "stream",
     "text": [
      "{'name': 'Ali', 'age': 34, 'Gender': 'Male'}\n"
     ]
    }
   ],
   "source": [
    "my_dict = {'name':'Mohsin' , 'age':25 , 'Gender':'Male' , \"name\":'Ali' , 'age':34}\n",
    "print(my_dict)"
   ]
  },
  {
   "cell_type": "code",
   "execution_count": 6,
   "metadata": {},
   "outputs": [
    {
     "name": "stdout",
     "output_type": "stream",
     "text": [
      "{'name': 'Ali', 'Gender': 'Male'}\n"
     ]
    }
   ],
   "source": [
    "del my_dict['age']\n",
    "print(my_dict)"
   ]
  },
  {
   "cell_type": "code",
   "execution_count": 7,
   "metadata": {},
   "outputs": [
    {
     "name": "stdout",
     "output_type": "stream",
     "text": [
      "Mohsin\n",
      "25\n",
      "Male\n"
     ]
    }
   ],
   "source": [
    "my_dict = {'name':'Mohsin' , 'age':25 , 'Gender':'Male'}\n",
    "for info in my_dict.values():  # '.values converts all the values of dictionary into listed form'\n",
    "    print(info)"
   ]
  },
  {
   "cell_type": "code",
   "execution_count": 8,
   "metadata": {},
   "outputs": [
    {
     "name": "stdout",
     "output_type": "stream",
     "text": [
      "name\n",
      "age\n",
      "Gender\n"
     ]
    }
   ],
   "source": [
    "dict1 = {'name':'Mohsin' , 'age':25 , 'Gender':'Male' , 'cnic':'42000-6765-8776'}\n",
    "for info1 in my_dict.keys(): \n",
    "    print(info1)"
   ]
  },
  {
   "cell_type": "code",
   "execution_count": 12,
   "metadata": {},
   "outputs": [
    {
     "data": {
      "text/plain": [
       "dict_values([32, 234])"
      ]
     },
     "execution_count": 12,
     "metadata": {},
     "output_type": "execute_result"
    }
   ],
   "source": [
    "dict111 = {'a':32 , \"b\":234}\n",
    "dict111.values()"
   ]
  },
  {
   "cell_type": "code",
   "execution_count": 13,
   "metadata": {},
   "outputs": [
    {
     "data": {
      "text/plain": [
       "dict_keys(['a', 'b'])"
      ]
     },
     "execution_count": 13,
     "metadata": {},
     "output_type": "execute_result"
    }
   ],
   "source": [
    "dict111 = {'a':32 , \"b\":234}\n",
    "dict111.keys()"
   ]
  },
  {
   "cell_type": "code",
   "execution_count": 2,
   "metadata": {},
   "outputs": [
    {
     "name": "stdout",
     "output_type": "stream",
     "text": [
      "Mohsin\n",
      "25\n",
      "Male\n",
      "42000-6765-8776\n"
     ]
    }
   ],
   "source": [
    "dict01 = {'name':'Mohsin' , 'age':25 , 'Gender':'Male' , 'cnic':'42000-6765-8776'}\n",
    "for data in dict01.keys():\n",
    "    print(dict01[data])\n"
   ]
  },
  {
   "cell_type": "code",
   "execution_count": 16,
   "metadata": {},
   "outputs": [
    {
     "name": "stdout",
     "output_type": "stream",
     "text": [
      "This is a key: name This is a value: Mohsin\n",
      "This is a key: age This is a value: 25\n",
      "This is a key: Gender This is a value: Male\n",
      "This is a key: cnic This is a value: 42000-6765-8776\n"
     ]
    }
   ],
   "source": [
    "dict01 = {'name':'Mohsin' , 'age':25 , 'Gender':'Male' , 'cnic':'42000-6765-8776'}\n",
    "for key,value in dict01.items():\n",
    "    print(\"This is a key:\" , key , \"This is a value:\" , value)"
   ]
  },
  {
   "cell_type": "code",
   "execution_count": 3,
   "metadata": {},
   "outputs": [
    {
     "name": "stdout",
     "output_type": "stream",
     "text": [
      "Enter your name:mueid\n",
      "Enter your CNIC:14523654\n",
      "Enter your Age:25\n",
      "{'name': 'mueid', 'CNIC': '14523654', 'Age': 25}\n"
     ]
    }
   ],
   "source": [
    "Profile = {}\n",
    "user1 = input(\"Enter your name:\")\n",
    "user2 = input(\"Enter your CNIC:\")\n",
    "user3 = int(input(\"Enter your Age:\"))\n",
    "Profile['name']=user1\n",
    "Profile['CNIC']=user2\n",
    "Profile['Age']=user3\n",
    "print(Profile)\n"
   ]
  },
  {
   "cell_type": "code",
   "execution_count": 4,
   "metadata": {},
   "outputs": [
    {
     "name": "stdout",
     "output_type": "stream",
     "text": [
      "Enter your name:mueid\n",
      "Enter your CNIC:42531452\n",
      "Enter your Age:25\n",
      "{'name': 'mueid', 'CNIC': '42531452', 'Age': 25}\n"
     ]
    }
   ],
   "source": [
    "Profile = {}\n",
    "Profile['name']=input(\"Enter your name:\")\n",
    "Profile['CNIC']=input(\"Enter your CNIC:\")\n",
    "Profile['Age']=int(input(\"Enter your Age:\"))\n",
    "print(Profile)\n"
   ]
  },
  {
   "cell_type": "code",
   "execution_count": 15,
   "metadata": {},
   "outputs": [],
   "source": [
    "customers = [{\"customers_id\":\"123\", \"name\":\"shahzad\"},{\"customers_id\":\"256\", \"name\":\"mohsin\"},{\"customers_id\":\"234\", \"name\":\"hamza\"}]"
   ]
  },
  {
   "cell_type": "code",
   "execution_count": 16,
   "metadata": {},
   "outputs": [
    {
     "data": {
      "text/plain": [
       "{'customers_id': '234', 'name': 'hamza'}"
      ]
     },
     "execution_count": 16,
     "metadata": {},
     "output_type": "execute_result"
    }
   ],
   "source": [
    "customers[-1]"
   ]
  },
  {
   "cell_type": "code",
   "execution_count": 17,
   "metadata": {},
   "outputs": [
    {
     "data": {
      "text/plain": [
       "'hamza'"
      ]
     },
     "execution_count": 17,
     "metadata": {},
     "output_type": "execute_result"
    }
   ],
   "source": [
    "customers[-1][\"name\"]"
   ]
  },
  {
   "cell_type": "code",
   "execution_count": 25,
   "metadata": {},
   "outputs": [],
   "source": [
    "for i in customers:\n",
    "    if i['customers_id']=='234':\n",
    "        customers.remove(i) "
   ]
  },
  {
   "cell_type": "code",
   "execution_count": 26,
   "metadata": {},
   "outputs": [
    {
     "name": "stdout",
     "output_type": "stream",
     "text": [
      "[{'customers_id': '123', 'name': 'shahzad'}, {'customers_id': '256', 'name': 'mohsin'}]\n"
     ]
    }
   ],
   "source": [
    "print(customers)"
   ]
  },
  {
   "cell_type": "code",
   "execution_count": 44,
   "metadata": {},
   "outputs": [],
   "source": [
    "customer_2 = {\"customers_id\":\"123\", \"name\":\"shahzad\",\"interest\":['cricket','video games','movies',{'game':'football'}]}\n"
   ]
  },
  {
   "cell_type": "code",
   "execution_count": 50,
   "metadata": {},
   "outputs": [
    {
     "data": {
      "text/plain": [
       "'football'"
      ]
     },
     "execution_count": 50,
     "metadata": {},
     "output_type": "execute_result"
    }
   ],
   "source": [
    "customer_2['interest'][3]['game']"
   ]
  },
  {
   "cell_type": "code",
   "execution_count": 53,
   "metadata": {},
   "outputs": [],
   "source": [
    "customer_3 = {0:{\"customers_id\":\"123\", \"name\":\"abc\"},\n",
    "              1:{\"customers_id\":\"456\", \"name\":\"def\"}}"
   ]
  },
  {
   "cell_type": "code",
   "execution_count": 54,
   "metadata": {},
   "outputs": [
    {
     "data": {
      "text/plain": [
       "'def'"
      ]
     },
     "execution_count": 54,
     "metadata": {},
     "output_type": "execute_result"
    }
   ],
   "source": [
    "customer_3[1]['name']"
   ]
  },
  {
   "cell_type": "code",
   "execution_count": 55,
   "metadata": {},
   "outputs": [
    {
     "data": {
      "text/plain": [
       "True"
      ]
     },
     "execution_count": 55,
     "metadata": {},
     "output_type": "execute_result"
    }
   ],
   "source": [
    "1 in customer_3"
   ]
  },
  {
   "cell_type": "code",
   "execution_count": 56,
   "metadata": {},
   "outputs": [
    {
     "data": {
      "text/plain": [
       "False"
      ]
     },
     "execution_count": 56,
     "metadata": {},
     "output_type": "execute_result"
    }
   ],
   "source": [
    "2 in customer_3   # key 2: is not present in dict"
   ]
  },
  {
   "cell_type": "code",
   "execution_count": 58,
   "metadata": {},
   "outputs": [
    {
     "data": {
      "text/plain": [
       "True"
      ]
     },
     "execution_count": 58,
     "metadata": {},
     "output_type": "execute_result"
    }
   ],
   "source": [
    "'name' in customer_3[1]  # TO CHCEK THE KEYS IF PRESENT OR NOT IN THE DICT."
   ]
  },
  {
   "cell_type": "markdown",
   "metadata": {},
   "source": [
    "# FUNCTIONS"
   ]
  },
  {
   "cell_type": "markdown",
   "metadata": {},
   "source": [
    "robot "
   ]
  },
  {
   "cell_type": "code",
   "execution_count": 61,
   "metadata": {},
   "outputs": [],
   "source": [
    "def add():\n",
    "    a = 3\n",
    "    b = 5\n",
    "    c = a + b\n",
    "    print(c)"
   ]
  },
  {
   "cell_type": "code",
   "execution_count": 62,
   "metadata": {},
   "outputs": [
    {
     "name": "stdout",
     "output_type": "stream",
     "text": [
      "8\n"
     ]
    }
   ],
   "source": [
    "add()"
   ]
  },
  {
   "cell_type": "code",
   "execution_count": 63,
   "metadata": {},
   "outputs": [],
   "source": [
    "def func(x):      # func(parameter)\n",
    "    print(x)"
   ]
  },
  {
   "cell_type": "code",
   "execution_count": 64,
   "metadata": {},
   "outputs": [
    {
     "name": "stdout",
     "output_type": "stream",
     "text": [
      "Hello World\n"
     ]
    }
   ],
   "source": [
    "func('Hello World')         # when 'call in' func(arguement)"
   ]
  },
  {
   "cell_type": "code",
   "execution_count": 65,
   "metadata": {},
   "outputs": [],
   "source": [
    "def add(x,y):\n",
    "    print(x+y)"
   ]
  },
  {
   "cell_type": "code",
   "execution_count": 66,
   "metadata": {},
   "outputs": [
    {
     "name": "stdout",
     "output_type": "stream",
     "text": [
      "5\n"
     ]
    }
   ],
   "source": [
    "add(2,3)"
   ]
  },
  {
   "cell_type": "code",
   "execution_count": 71,
   "metadata": {},
   "outputs": [],
   "source": [
    "def calculator(x,y,operator='+'):\n",
    "    if operator == '+':\n",
    "        print(x+y)\n",
    "    elif operator == '-':\n",
    "        print(x-y)\n",
    "    elif operator == '*':\n",
    "        print(x*y)\n",
    "    elif operator == '/':\n",
    "        print(x/y)\n",
    "    else:\n",
    "        print(\"invalid operator\")"
   ]
  },
  {
   "cell_type": "code",
   "execution_count": 74,
   "metadata": {},
   "outputs": [
    {
     "name": "stdout",
     "output_type": "stream",
     "text": [
      "-4\n"
     ]
    }
   ],
   "source": [
    "calculator(5,9,'-')"
   ]
  },
  {
   "cell_type": "code",
   "execution_count": 76,
   "metadata": {},
   "outputs": [
    {
     "name": "stdout",
     "output_type": "stream",
     "text": [
      "8\n"
     ]
    }
   ],
   "source": [
    "calculator(6,2)    # using by default parameter"
   ]
  },
  {
   "cell_type": "code",
   "execution_count": 77,
   "metadata": {},
   "outputs": [],
   "source": [
    "def userandfather(username,fathername):\n",
    "    print(\"My name is \" + username)\n",
    "    print(\"My father is \" + fathername)"
   ]
  },
  {
   "cell_type": "code",
   "execution_count": 78,
   "metadata": {},
   "outputs": [
    {
     "name": "stdout",
     "output_type": "stream",
     "text": [
      "My name is hussain\n",
      "My father is Saifuddin\n"
     ]
    }
   ],
   "source": [
    "userandfather('hussain','Saifuddin')"
   ]
  },
  {
   "cell_type": "code",
   "execution_count": 79,
   "metadata": {},
   "outputs": [
    {
     "name": "stdout",
     "output_type": "stream",
     "text": [
      "My name is Saifuddin\n",
      "My father is hussain\n"
     ]
    }
   ],
   "source": [
    "userandfather('Saifuddin','hussain')"
   ]
  },
  {
   "cell_type": "code",
   "execution_count": 80,
   "metadata": {},
   "outputs": [
    {
     "name": "stdout",
     "output_type": "stream",
     "text": [
      "My name is hussain\n",
      "My father is Saifuddin\n"
     ]
    }
   ],
   "source": [
    "userandfather(fathername='Saifuddin',username='hussain')     # used keyword arguement to correct the position"
   ]
  },
  {
   "cell_type": "code",
   "execution_count": 8,
   "metadata": {},
   "outputs": [
    {
     "name": "stdout",
     "output_type": "stream",
     "text": [
      "mueid ali  \n"
     ]
    },
    {
     "data": {
      "text/plain": [
       "<function __main__.my_full_name(firstname, middlename, lastname=' ')>"
      ]
     },
     "execution_count": 8,
     "metadata": {},
     "output_type": "execute_result"
    }
   ],
   "source": [
    "def my_full_name(firstname,middlename,lastname=\" \"):\n",
    "    print(firstname,middlename,lastname)\n",
    "my_full_name(\"mueid\",\"ali\",)\n",
    "my_full_name    \n"
   ]
  },
  {
   "cell_type": "code",
   "execution_count": 9,
   "metadata": {},
   "outputs": [
    {
     "name": "stdout",
     "output_type": "stream",
     "text": [
      "mueid khan  \n"
     ]
    },
    {
     "data": {
      "text/plain": [
       "<function __main__.my_full_name(firstname, middlename=' ', lastname=' ')>"
      ]
     },
     "execution_count": 9,
     "metadata": {},
     "output_type": "execute_result"
    }
   ],
   "source": [
    "def my_full_name(firstname,middlename=\" \",lastname=\" \"):\n",
    "    print(firstname,middlename,lastname)\n",
    "my_full_name(\"mueid\",\"khan\")\n",
    "my_full_name  "
   ]
  },
  {
   "cell_type": "code",
   "execution_count": null,
   "metadata": {},
   "outputs": [],
   "source": []
  }
 ],
 "metadata": {
  "kernelspec": {
   "display_name": "Python 3",
   "language": "python",
   "name": "python3"
  },
  "language_info": {
   "codemirror_mode": {
    "name": "ipython",
    "version": 3
   },
   "file_extension": ".py",
   "mimetype": "text/x-python",
   "name": "python",
   "nbconvert_exporter": "python",
   "pygments_lexer": "ipython3",
   "version": "3.7.3"
  }
 },
 "nbformat": 4,
 "nbformat_minor": 2
}
